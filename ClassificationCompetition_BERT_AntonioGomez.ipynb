{
 "cells": [
  {
   "cell_type": "code",
   "execution_count": 1,
   "metadata": {
    "colab": {
     "base_uri": "https://localhost:8080/"
    },
    "id": "tp-MjBYlsHmx",
    "outputId": "134025e7-b812-4a59-9f27-34679ae5d3d0"
   },
   "outputs": [],
   "source": [
    "#This model was inspired by these two examples:\n",
    "\n",
    "#[1] https://www.kaggle.com/raghavkhemka/sarcasm-detection-using-bert-92-accuracy\n",
    "\n",
    "#[2] https://www.kaggle.com/carmensandiego/sarcasm-detection-with-bert-val-accuracy-98-5\n",
    "\n",
    "#Please note that I tried to save the model but I consistently got errors trying to recover it\n",
    "#based on this trained model, the best F1 score I obtained was 0.732. I kept all the answer.txt\n",
    "#submissions that beat the baseline, but please note that, because there is no model saved\n",
    "#you might not be able to beat the baseline with the model (as it depends on the learning\n",
    "#that happens during training)\n",
    "\n",
    "import numpy as np # linear algebra\n",
    "import pandas as pd # data processing, CSV file I/O (e.g. pd.read_csv)\n",
    "import tensorflow as tf #using TensorFlow for the neural network\n",
    "import matplotlib.pyplot as plt #To be able to plot accuracy and loss\n",
    "from sklearn.model_selection import train_test_split\n",
    "import nltk\n",
    "from nltk.corpus import stopwords\n",
    "import re,string\n",
    "\n",
    "#These lines are commented since this is to be run locally\n",
    "#from google.colab import drive\n",
    "#drive.mount(\"/content/gdrive\")"
   ]
  },
  {
   "cell_type": "code",
   "execution_count": 3,
   "metadata": {
    "colab": {
     "base_uri": "https://localhost:8080/",
     "height": 789
    },
    "id": "1rA947oUsWC9",
    "outputId": "a5360312-8547-4fb4-8203-00b5d6982699"
   },
   "outputs": [
    {
     "name": "stdout",
     "output_type": "stream",
     "text": [
      "Requirement already satisfied: Transformers in c:\\users\\user\\anaconda3\\lib\\site-packages (3.5.1)\n",
      "Requirement already satisfied: filelock in c:\\users\\user\\anaconda3\\lib\\site-packages (from Transformers) (3.0.12)\n",
      "Requirement already satisfied: sentencepiece==0.1.91 in c:\\users\\user\\anaconda3\\lib\\site-packages (from Transformers) (0.1.91)\n",
      "Requirement already satisfied: numpy in c:\\users\\user\\anaconda3\\lib\\site-packages (from Transformers) (1.16.5)\n",
      "Requirement already satisfied: regex!=2019.12.17 in c:\\users\\user\\anaconda3\\lib\\site-packages (from Transformers) (2020.11.13)\n",
      "Requirement already satisfied: sacremoses in c:\\users\\user\\anaconda3\\lib\\site-packages (from Transformers) (0.0.43)\n",
      "Requirement already satisfied: requests in c:\\users\\user\\anaconda3\\lib\\site-packages (from Transformers) (2.22.0)\n",
      "Requirement already satisfied: packaging in c:\\users\\user\\anaconda3\\lib\\site-packages (from Transformers) (19.2)\n",
      "Requirement already satisfied: tokenizers==0.9.3 in c:\\users\\user\\anaconda3\\lib\\site-packages (from Transformers) (0.9.3)\n",
      "Requirement already satisfied: tqdm>=4.27 in c:\\users\\user\\anaconda3\\lib\\site-packages (from Transformers) (4.36.1)\n",
      "Requirement already satisfied: protobuf in c:\\users\\user\\anaconda3\\lib\\site-packages (from Transformers) (3.12.2)\n",
      "Requirement already satisfied: click in c:\\users\\user\\anaconda3\\lib\\site-packages (from sacremoses->Transformers) (7.0)\n",
      "Requirement already satisfied: joblib in c:\\users\\user\\anaconda3\\lib\\site-packages (from sacremoses->Transformers) (0.13.2)\n",
      "Requirement already satisfied: six in c:\\users\\user\\anaconda3\\lib\\site-packages (from sacremoses->Transformers) (1.12.0)\n",
      "Requirement already satisfied: urllib3!=1.25.0,!=1.25.1,<1.26,>=1.21.1 in c:\\users\\user\\anaconda3\\lib\\site-packages (from requests->Transformers) (1.24.2)\n",
      "Requirement already satisfied: idna<2.9,>=2.5 in c:\\users\\user\\anaconda3\\lib\\site-packages (from requests->Transformers) (2.8)\n",
      "Requirement already satisfied: chardet<3.1.0,>=3.0.2 in c:\\users\\user\\anaconda3\\lib\\site-packages (from requests->Transformers) (3.0.4)\n",
      "Requirement already satisfied: certifi>=2017.4.17 in c:\\users\\user\\anaconda3\\lib\\site-packages (from requests->Transformers) (2019.9.11)\n",
      "Requirement already satisfied: pyparsing>=2.0.2 in c:\\users\\user\\anaconda3\\lib\\site-packages (from packaging->Transformers) (2.4.2)\n",
      "Requirement already satisfied: setuptools in c:\\users\\user\\anaconda3\\lib\\site-packages (from protobuf->Transformers) (41.4.0)\n"
     ]
    },
    {
     "name": "stderr",
     "output_type": "stream",
     "text": [
      "WARNING: You are using pip version 20.2.3; however, version 20.3.1 is available.\n",
      "You should consider upgrading via the 'c:\\users\\user\\anaconda3\\python.exe -m pip install --upgrade pip' command.\n"
     ]
    },
    {
     "data": {
      "text/html": [
       "<div>\n",
       "<style scoped>\n",
       "    .dataframe tbody tr th:only-of-type {\n",
       "        vertical-align: middle;\n",
       "    }\n",
       "\n",
       "    .dataframe tbody tr th {\n",
       "        vertical-align: top;\n",
       "    }\n",
       "\n",
       "    .dataframe thead th {\n",
       "        text-align: right;\n",
       "    }\n",
       "</style>\n",
       "<table border=\"1\" class=\"dataframe\">\n",
       "  <thead>\n",
       "    <tr style=\"text-align: right;\">\n",
       "      <th></th>\n",
       "      <th>label</th>\n",
       "      <th>response</th>\n",
       "      <th>context</th>\n",
       "    </tr>\n",
       "  </thead>\n",
       "  <tbody>\n",
       "    <tr>\n",
       "      <td>0</td>\n",
       "      <td>SARCASM</td>\n",
       "      <td>@USER @USER @USER I don't get this .. obviousl...</td>\n",
       "      <td>[A minor child deserves privacy and should be ...</td>\n",
       "    </tr>\n",
       "    <tr>\n",
       "      <td>1</td>\n",
       "      <td>SARCASM</td>\n",
       "      <td>@USER @USER trying to protest about . Talking ...</td>\n",
       "      <td>[@USER @USER Why is he a loser ? He's just a P...</td>\n",
       "    </tr>\n",
       "    <tr>\n",
       "      <td>2</td>\n",
       "      <td>SARCASM</td>\n",
       "      <td>@USER @USER @USER He makes an insane about of ...</td>\n",
       "      <td>[Donald J . Trump is guilty as charged . The e...</td>\n",
       "    </tr>\n",
       "    <tr>\n",
       "      <td>3</td>\n",
       "      <td>SARCASM</td>\n",
       "      <td>@USER @USER Meanwhile Trump won't even release...</td>\n",
       "      <td>[Jamie Raskin tanked Doug Collins . Collins lo...</td>\n",
       "    </tr>\n",
       "    <tr>\n",
       "      <td>4</td>\n",
       "      <td>SARCASM</td>\n",
       "      <td>@USER @USER Pretty Sure the Anti-Lincoln Crowd...</td>\n",
       "      <td>[Man ... y â€™ all gone â€œ both sides â€� the...</td>\n",
       "    </tr>\n",
       "  </tbody>\n",
       "</table>\n",
       "</div>"
      ],
      "text/plain": [
       "     label                                           response  \\\n",
       "0  SARCASM  @USER @USER @USER I don't get this .. obviousl...   \n",
       "1  SARCASM  @USER @USER trying to protest about . Talking ...   \n",
       "2  SARCASM  @USER @USER @USER He makes an insane about of ...   \n",
       "3  SARCASM  @USER @USER Meanwhile Trump won't even release...   \n",
       "4  SARCASM  @USER @USER Pretty Sure the Anti-Lincoln Crowd...   \n",
       "\n",
       "                                             context  \n",
       "0  [A minor child deserves privacy and should be ...  \n",
       "1  [@USER @USER Why is he a loser ? He's just a P...  \n",
       "2  [Donald J . Trump is guilty as charged . The e...  \n",
       "3  [Jamie Raskin tanked Doug Collins . Collins lo...  \n",
       "4  [Man ... y â€™ all gone â€œ both sides â€� the...  "
      ]
     },
     "execution_count": 3,
     "metadata": {},
     "output_type": "execute_result"
    }
   ],
   "source": [
    "!pip install Transformers\n",
    "from transformers import TFBertModel, BertTokenizer, AdamWeightDecay\n",
    "\n",
    "#Here I am reading the file from <local directory>/data/\n",
    "#You must have the same setup otherwise this will throw an Exception\n",
    "\n",
    "df = pd.read_json(\"./data/train.jsonl\", lines=True)\n",
    "labels = df.label.values\n",
    "tweeets = df.response.values\n",
    "df.head()"
   ]
  },
  {
   "cell_type": "code",
   "execution_count": 4,
   "metadata": {
    "colab": {
     "base_uri": "https://localhost:8080/",
     "height": 242
    },
    "id": "hb-qrq0X1fR-",
    "outputId": "4d56a5f5-46a7-4e02-e385-c8a46d00a830"
   },
   "outputs": [
    {
     "name": "stderr",
     "output_type": "stream",
     "text": [
      "[nltk_data] Downloading package stopwords to\n",
      "[nltk_data]     C:\\Users\\User\\AppData\\Roaming\\nltk_data...\n",
      "[nltk_data]   Package stopwords is already up-to-date!\n"
     ]
    },
    {
     "data": {
      "text/html": [
       "<div>\n",
       "<style scoped>\n",
       "    .dataframe tbody tr th:only-of-type {\n",
       "        vertical-align: middle;\n",
       "    }\n",
       "\n",
       "    .dataframe tbody tr th {\n",
       "        vertical-align: top;\n",
       "    }\n",
       "\n",
       "    .dataframe thead th {\n",
       "        text-align: right;\n",
       "    }\n",
       "</style>\n",
       "<table border=\"1\" class=\"dataframe\">\n",
       "  <thead>\n",
       "    <tr style=\"text-align: right;\">\n",
       "      <th></th>\n",
       "      <th>label</th>\n",
       "      <th>response</th>\n",
       "      <th>context</th>\n",
       "    </tr>\n",
       "  </thead>\n",
       "  <tbody>\n",
       "    <tr>\n",
       "      <td>0</td>\n",
       "      <td>1</td>\n",
       "      <td>@USER @USER @USER get  obviously care would've...</td>\n",
       "      <td>[A minor child deserves privacy and should be ...</td>\n",
       "    </tr>\n",
       "    <tr>\n",
       "      <td>1</td>\n",
       "      <td>1</td>\n",
       "      <td>@USER @USER trying protest Talking labels labe...</td>\n",
       "      <td>[@USER @USER Why is he a loser ? He's just a P...</td>\n",
       "    </tr>\n",
       "    <tr>\n",
       "      <td>2</td>\n",
       "      <td>1</td>\n",
       "      <td>@USER @USER @USER makes insane money MOVIES Ei...</td>\n",
       "      <td>[Donald J . Trump is guilty as charged . The e...</td>\n",
       "    </tr>\n",
       "    <tr>\n",
       "      <td>3</td>\n",
       "      <td>1</td>\n",
       "      <td>@USER @USER Meanwhile Trump even release SAT s...</td>\n",
       "      <td>[Jamie Raskin tanked Doug Collins . Collins lo...</td>\n",
       "    </tr>\n",
       "    <tr>\n",
       "      <td>4</td>\n",
       "      <td>1</td>\n",
       "      <td>@USER @USER Pretty Sure Anti-Lincoln Crowd Cla...</td>\n",
       "      <td>[Man ... y â€™ all gone â€œ both sides â€� the...</td>\n",
       "    </tr>\n",
       "  </tbody>\n",
       "</table>\n",
       "</div>"
      ],
      "text/plain": [
       "  label                                           response  \\\n",
       "0     1  @USER @USER @USER get  obviously care would've...   \n",
       "1     1  @USER @USER trying protest Talking labels labe...   \n",
       "2     1  @USER @USER @USER makes insane money MOVIES Ei...   \n",
       "3     1  @USER @USER Meanwhile Trump even release SAT s...   \n",
       "4     1  @USER @USER Pretty Sure Anti-Lincoln Crowd Cla...   \n",
       "\n",
       "                                             context  \n",
       "0  [A minor child deserves privacy and should be ...  \n",
       "1  [@USER @USER Why is he a loser ? He's just a P...  \n",
       "2  [Donald J . Trump is guilty as charged . The e...  \n",
       "3  [Jamie Raskin tanked Doug Collins . Collins lo...  \n",
       "4  [Man ... y â€™ all gone â€œ both sides â€� the...  "
      ]
     },
     "execution_count": 4,
     "metadata": {},
     "output_type": "execute_result"
    }
   ],
   "source": [
    "#download stopwords that we are going to use to filter tweets\n",
    "nltk.download('stopwords')\n",
    "stop = set(stopwords.words('english'))\n",
    "\n",
    "#remove punctuation from tweets\n",
    "punctuation = list(string.punctuation)\n",
    "stop.update(punctuation)\n",
    "\n",
    "\n",
    "#These are different functions I built to remove different parts of the tweets.\n",
    "#I ended up using two or three of them in order to get my best reported results\n",
    "\n",
    "def remove_emoji(text):\n",
    "        emoji_patterns = re.compile(pattern = \"[\"\n",
    "        u\"\\U0001F600-\\U0001F64F\"  # emoticons\n",
    "        u\"\\U0001F300-\\U0001F5FF\"  # symbols & pictographs\n",
    "        u\"\\U0001F680-\\U0001F6FF\"  # transport & map symbols\n",
    "        u\"\\U0001F1E0-\\U0001F1FF\"  # flags (iOS)\n",
    "                           \"]+\", flags = re.UNICODE)\n",
    "        return emoji_patterns.sub(r'',text)\n",
    "\n",
    "#Removing the @USER from tweets\n",
    "def remove_tag_user(text):\n",
    "    return re.sub('@USER', '', text)\n",
    "\n",
    "#Remove hashtags symbols from tweets\n",
    "def remove_hashtags(text):\n",
    "    return re.sub('#', '', text)\n",
    "\n",
    "#Removing the stopwords from text\n",
    "def remove_stopwords(text):\n",
    "    final_text = []\n",
    "    for i in text.split():\n",
    "        if i.strip().lower() not in stop:\n",
    "            final_text.append(i.strip())\n",
    "    return \" \".join(final_text)\n",
    "\n",
    "#Removed special symbols that were not captured by punctuation\n",
    "def remove_special_symbols(text):\n",
    "    text = re.sub('->', '', text)\n",
    "    text = re.sub('“', '', text)\n",
    "    text = re.sub('”', '', text)\n",
    "    text = re.sub('\\.','',text)\n",
    "    return re.sub('’','', text)\n",
    "  \n",
    "#Convert labels to numbers\n",
    "def convert_labels(text):\n",
    "    text = re.sub('NOT_SARCASM', '0', text)\n",
    "    text = re.sub('SARCASM', '1', text)\n",
    "    return text\n",
    "\n",
    "#Removing all the noisy text, note that most of the functions are now \n",
    "#commented. This is because I tested different alternatives and I got best\n",
    "#results by just removing stopwords and special symbols (while keeping\n",
    "#everything else)\n",
    "\n",
    "def denoise_text(text):\n",
    "    #text = remove_emoji(text)\n",
    "    text = remove_stopwords(text)\n",
    "    text = remove_special_symbols(text)\n",
    "    #text = remove_tag_user(text)\n",
    "    #text = remove_links(text)\n",
    "    #text = remove_hashtags(text)\n",
    "    #text = remove_punct(text)\n",
    "\n",
    "    return text\n",
    "\n",
    "#Apply function on review column\n",
    "df['response']=df['response'].apply(denoise_text)\n",
    "df['label']=df['label'].apply(convert_labels)\n",
    "df.head()"
   ]
  },
  {
   "cell_type": "code",
   "execution_count": 5,
   "metadata": {
    "id": "AySF2gQH2cSc"
   },
   "outputs": [],
   "source": [
    "model_name = 'bert-base-uncased'\n",
    "tokenizer = BertTokenizer.from_pretrained(model_name,do_lower_case = True)\n",
    "\n",
    "#encoder method to tokenize tweets\n",
    "#please note that I have changed the input_size vs. the cited work\n",
    "def encoder(thetweets):\n",
    "    ids = []\n",
    "    for atweet in thetweets:\n",
    "        encoding = tokenizer.encode_plus(atweet,max_length=64,truncation = True,add_special_tokens=True,return_token_type_ids=False,padding='max_length',return_attention_mask=False)\n",
    "        ids.append(encoding['input_ids'])\n",
    "    return ids\n",
    "\n",
    "#Train test split\n",
    "train_tweets,test_tweets, train_labels, test_labels  = train_test_split(tweeets,labels,test_size=0.2)\n",
    "\n",
    "#encoding tweets\n",
    "train_ids = encoder(train_tweets)\n",
    "test_ids = encoder(test_tweets) "
   ]
  },
  {
   "cell_type": "code",
   "execution_count": 6,
   "metadata": {
    "id": "zzuBljQF3dzs"
   },
   "outputs": [],
   "source": [
    "#conversion of train and test tweets to tensors (to pass to model)\n",
    "train_ids = tf.convert_to_tensor(train_ids)\n",
    "test_ids = tf.convert_to_tensor(test_ids)\n",
    "\n",
    "#casting of labels to tensors after casting them to float (otherwise it does not work :-\\)\n",
    "test_labels = tf.convert_to_tensor(test_labels.astype(np.float))\n",
    "train_labels = tf.convert_to_tensor(train_labels.astype(np.float))\n"
   ]
  },
  {
   "cell_type": "code",
   "execution_count": 7,
   "metadata": {
    "colab": {
     "base_uri": "https://localhost:8080/"
    },
    "id": "7Z_FsGCw39mz",
    "outputId": "fec41fe6-ec3f-4e46-d687-bfbc64a11aa5"
   },
   "outputs": [
    {
     "name": "stderr",
     "output_type": "stream",
     "text": [
      "Some layers from the model checkpoint at bert-base-uncased were not used when initializing TFBertModel: ['mlm___cls', 'nsp___cls']\n",
      "- This IS expected if you are initializing TFBertModel from the checkpoint of a model trained on another task or with another architecture (e.g. initializing a BertForSequenceClassification model from a BertForPreTraining model).\n",
      "- This IS NOT expected if you are initializing TFBertModel from the checkpoint of a model that you expect to be exactly identical (initializing a BertForSequenceClassification model from a BertForSequenceClassification model).\n",
      "All the layers of TFBertModel were initialized from the model checkpoint at bert-base-uncased.\n",
      "If your task is similar to the task the model of the checkpoint was trained on, you can already use TFBertModel for predictions without further training.\n"
     ]
    }
   ],
   "source": [
    "#the original model was found here:\n",
    "#[1] https://www.kaggle.com/raghavkhemka/sarcasm-detection-using-bert-92-accuracy\n",
    "\n",
    "#However I changed the dimensions and fine-tuned the rate of output\n",
    "#as well as the optimizer, learning rate and loss function parameters\n",
    "#I also trained the model myself, so in the end is a different instance\n",
    "\n",
    "bert_encoder = TFBertModel.from_pretrained('bert-base-uncased')\n",
    "\n",
    "input_word_ids = tf.keras.Input(shape=(64,), dtype=tf.int32, name=\"input_word_ids\")  \n",
    "#embedding's layer from BERT\n",
    "embedding = bert_encoder([input_word_ids])\n",
    "\n",
    "#Model consists of an embedding layer and two Dense layers\n",
    "#Please note that I changed the number of nodes vs. the cited work\n",
    "# in \"Sarcasm Detection using the Pre-Trained BERT model from Transformers\"\n",
    "dense = tf.keras.layers.Lambda(lambda seq: seq[:, 0, :])(embedding[0])\n",
    "dense = tf.keras.layers.Dense(100, activation='relu')(dense)\n",
    "\n",
    "#Dropout set at 40%\n",
    "dense = tf.keras.layers.Dropout(0.4)(dense)\n",
    "\n",
    "#Sigmoid function as we are doing a binary classification\n",
    "output = tf.keras.layers.Dense(1, activation='sigmoid')(dense)    \n",
    "\n",
    "#model definition, receiving tweets as input and the result from the sigmoid\n",
    "#function as output\n",
    "model = tf.keras.Model(inputs=[input_word_ids], outputs=output)"
   ]
  },
  {
   "cell_type": "code",
   "execution_count": 8,
   "metadata": {
    "colab": {
     "base_uri": "https://localhost:8080/"
    },
    "id": "-z9NHDui4J98",
    "outputId": "4cd8fc7a-849a-4dc2-b4c2-30abe781ef62"
   },
   "outputs": [
    {
     "name": "stdout",
     "output_type": "stream",
     "text": [
      "Model: \"functional_1\"\n",
      "_________________________________________________________________\n",
      "Layer (type)                 Output Shape              Param #   \n",
      "=================================================================\n",
      "input_word_ids (InputLayer)  [(None, 64)]              0         \n",
      "_________________________________________________________________\n",
      "tf_bert_model (TFBertModel)  ((None, 64, 768), (None,  109482240 \n",
      "_________________________________________________________________\n",
      "lambda (Lambda)              (None, 768)               0         \n",
      "_________________________________________________________________\n",
      "dense (Dense)                (None, 100)               76900     \n",
      "_________________________________________________________________\n",
      "dropout_37 (Dropout)         (None, 100)               0         \n",
      "_________________________________________________________________\n",
      "dense_1 (Dense)              (None, 1)                 101       \n",
      "=================================================================\n",
      "Total params: 109,559,241\n",
      "Trainable params: 109,559,241\n",
      "Non-trainable params: 0\n",
      "_________________________________________________________________\n"
     ]
    }
   ],
   "source": [
    "#In this line I choose optimizer, loss function and metric to calculate loss\n",
    "#Note that this is also different from cited work at [1]\n",
    "#Sarcasm Detection using the Pre-Trained BERT model from Transformers\n",
    "\n",
    "#According to the documentation found, Adamax is a better optimizer in models\n",
    "#that deal with an embeddings layer, this is why I chose it instead of Adam\n",
    "#I also test the AdamWeightDecay optimizer (recommended in Piazza posts), but\n",
    "#I still got better results with Adamax.\n",
    "\n",
    "#I used learning rate of 2e-5 based on BERT Paper (reference below)\n",
    "#https://arxiv.org/pdf/1810.04805.pdf\n",
    "\n",
    "model.compile(tf.keras.optimizers.Adamax(lr=2e-5,beta_1=0.9, beta_2=0.99), loss='binary_crossentropy', metrics=['binary_accuracy'])\n",
    "\n",
    "model.summary()"
   ]
  },
  {
   "cell_type": "code",
   "execution_count": 13,
   "metadata": {
    "colab": {
     "base_uri": "https://localhost:8080/"
    },
    "id": "c84E6hyr4P34",
    "outputId": "e4aff0d4-68ed-4419-eb6c-afa102c22323"
   },
   "outputs": [
    {
     "name": "stdout",
     "output_type": "stream",
     "text": [
      "Epoch 1/3\n",
      "500/500 - 2008s - loss: 0.5630 - binary_accuracy: 0.7160 - val_loss: 0.5328 - val_binary_accuracy: 0.7330\n",
      "Epoch 2/3\n",
      "500/500 - 1850s - loss: 0.4695 - binary_accuracy: 0.7763 - val_loss: 0.5090 - val_binary_accuracy: 0.7570\n",
      "Epoch 3/3\n",
      "500/500 - 1742s - loss: 0.3899 - binary_accuracy: 0.8238 - val_loss: 0.5116 - val_binary_accuracy: 0.7530\n"
     ]
    }
   ],
   "source": [
    "#Here I train the model\n",
    "#I use batch size = 8 to maximize the input that BERT can receive which is\n",
    "#8 x 64 = 512 bytes. I also trained 3 epochs because in my experience\n",
    "#given the setup and the dropouts, this is the number where I do not see\n",
    "#overfitting (val_error does not increase). Additional epochs under the current\n",
    "#setup would probably overfit the model\n",
    "\n",
    "#Please note that this will run EXTREMELY slowly in a local environment. It is better to run it within\n",
    "#something like Google Colab using GPU\n",
    "\n",
    "history = model.fit(x = train_ids, y = train_labels, epochs = 3, verbose = 2, batch_size = 8, validation_data = (test_ids, test_labels))"
   ]
  },
  {
   "cell_type": "code",
   "execution_count": 14,
   "metadata": {
    "colab": {
     "base_uri": "https://localhost:8080/",
     "height": 541
    },
    "id": "DFTww9eK4brh",
    "outputId": "5512585e-b8c0-4792-825f-732d800e5caf"
   },
   "outputs": [
    {
     "data": {
      "image/png": "[encoded data removed]",
      "text/plain": [
       "<Figure size 432x288 with 1 Axes>"
      ]
     },
     "metadata": {
      "needs_background": "light"
     },
     "output_type": "display_data"
    },
    {
     "data": {
      "image/png": "[encoded data removed]",
      "text/plain": [
       "<Figure size 432x288 with 1 Axes>"
      ]
     },
     "metadata": {
      "needs_background": "light"
     },
     "output_type": "display_data"
    }
   ],
   "source": [
    "#Here I can check how the accuracy and loss functions change as I test different scenarios\n",
    "#and prior to generating an answer.txt file to submit for competition purposes\n",
    "\n",
    "def plot_graphs(history, string):\n",
    "    plt.plot(history.history[string])\n",
    "    plt.plot(history.history['val_'+string])\n",
    "    plt.xlabel(\"Epochs\")\n",
    "    plt.ylabel(string)\n",
    "    plt.legend([string, 'val_'+string])\n",
    "    plt.show()\n",
    "\n",
    "plot_graphs(history, 'binary_accuracy')\n",
    "plot_graphs(history, 'loss')"
   ]
  },
  {
   "cell_type": "code",
   "execution_count": 16,
   "metadata": {
    "colab": {
     "base_uri": "https://localhost:8080/",
     "height": 206
    },
    "id": "KgqISwEj4imJ",
    "outputId": "cb7f572e-b82d-46a2-88b2-0ceed49cdafd"
   },
   "outputs": [
    {
     "data": {
      "text/html": [
       "<div>\n",
       "<style scoped>\n",
       "    .dataframe tbody tr th:only-of-type {\n",
       "        vertical-align: middle;\n",
       "    }\n",
       "\n",
       "    .dataframe tbody tr th {\n",
       "        vertical-align: top;\n",
       "    }\n",
       "\n",
       "    .dataframe thead th {\n",
       "        text-align: right;\n",
       "    }\n",
       "</style>\n",
       "<table border=\"1\" class=\"dataframe\">\n",
       "  <thead>\n",
       "    <tr style=\"text-align: right;\">\n",
       "      <th></th>\n",
       "      <th>id</th>\n",
       "      <th>response</th>\n",
       "      <th>context</th>\n",
       "    </tr>\n",
       "  </thead>\n",
       "  <tbody>\n",
       "    <tr>\n",
       "      <td>0</td>\n",
       "      <td>twitter_1</td>\n",
       "      <td>@USER @USER @USER My 3 year old , that just fi...</td>\n",
       "      <td>[Well now that ’ s problematic AF &lt;URL&gt;, @USER...</td>\n",
       "    </tr>\n",
       "    <tr>\n",
       "      <td>1</td>\n",
       "      <td>twitter_2</td>\n",
       "      <td>@USER @USER How many verifiable lies has he to...</td>\n",
       "      <td>[Last week the Fake News said that a section o...</td>\n",
       "    </tr>\n",
       "    <tr>\n",
       "      <td>2</td>\n",
       "      <td>twitter_3</td>\n",
       "      <td>@USER @USER @USER Maybe Docs just a scrub of a...</td>\n",
       "      <td>[@USER Let ’ s Aplaud Brett When he deserves i...</td>\n",
       "    </tr>\n",
       "    <tr>\n",
       "      <td>3</td>\n",
       "      <td>twitter_4</td>\n",
       "      <td>@USER @USER is just a cover up for the real ha...</td>\n",
       "      <td>[Women generally hate this president . What's ...</td>\n",
       "    </tr>\n",
       "    <tr>\n",
       "      <td>4</td>\n",
       "      <td>twitter_5</td>\n",
       "      <td>@USER @USER @USER The irony being that he even...</td>\n",
       "      <td>[Dear media Remoaners , you excitedly sharing ...</td>\n",
       "    </tr>\n",
       "  </tbody>\n",
       "</table>\n",
       "</div>"
      ],
      "text/plain": [
       "          id                                           response  \\\n",
       "0  twitter_1  @USER @USER @USER My 3 year old , that just fi...   \n",
       "1  twitter_2  @USER @USER How many verifiable lies has he to...   \n",
       "2  twitter_3  @USER @USER @USER Maybe Docs just a scrub of a...   \n",
       "3  twitter_4  @USER @USER is just a cover up for the real ha...   \n",
       "4  twitter_5  @USER @USER @USER The irony being that he even...   \n",
       "\n",
       "                                             context  \n",
       "0  [Well now that ’ s problematic AF <URL>, @USER...  \n",
       "1  [Last week the Fake News said that a section o...  \n",
       "2  [@USER Let ’ s Aplaud Brett When he deserves i...  \n",
       "3  [Women generally hate this president . What's ...  \n",
       "4  [Dear media Remoaners , you excitedly sharing ...  "
      ]
     },
     "execution_count": 16,
     "metadata": {},
     "output_type": "execute_result"
    }
   ],
   "source": [
    "#Here I bring the test tweets (with no labels), to run the REAL test (generating\n",
    "# the file answer.txt and submitting to the competition)\n",
    "df_test = pd.read_json(\"./data/test.jsonl\", lines=True, encoding='utf-8')\n",
    "df_test.head()"
   ]
  },
  {
   "cell_type": "code",
   "execution_count": 17,
   "metadata": {
    "colab": {
     "base_uri": "https://localhost:8080/",
     "height": 206
    },
    "id": "L75b_W3b4ma-",
    "outputId": "9db08ee3-0350-48ce-e1ea-56bd2b796b94"
   },
   "outputs": [
    {
     "data": {
      "text/html": [
       "<div>\n",
       "<style scoped>\n",
       "    .dataframe tbody tr th:only-of-type {\n",
       "        vertical-align: middle;\n",
       "    }\n",
       "\n",
       "    .dataframe tbody tr th {\n",
       "        vertical-align: top;\n",
       "    }\n",
       "\n",
       "    .dataframe thead th {\n",
       "        text-align: right;\n",
       "    }\n",
       "</style>\n",
       "<table border=\"1\" class=\"dataframe\">\n",
       "  <thead>\n",
       "    <tr style=\"text-align: right;\">\n",
       "      <th></th>\n",
       "      <th>id</th>\n",
       "      <th>response</th>\n",
       "      <th>context</th>\n",
       "    </tr>\n",
       "  </thead>\n",
       "  <tbody>\n",
       "    <tr>\n",
       "      <td>0</td>\n",
       "      <td>twitter_1</td>\n",
       "      <td>@USER @USER @USER 3 year old finished reading ...</td>\n",
       "      <td>[Well now that ’ s problematic AF &lt;URL&gt;, @USER...</td>\n",
       "    </tr>\n",
       "    <tr>\n",
       "      <td>1</td>\n",
       "      <td>twitter_2</td>\n",
       "      <td>@USER @USER many verifiable lies told 15,000+ ...</td>\n",
       "      <td>[Last week the Fake News said that a section o...</td>\n",
       "    </tr>\n",
       "    <tr>\n",
       "      <td>2</td>\n",
       "      <td>twitter_3</td>\n",
       "      <td>@USER @USER @USER Maybe Docs scrub coach  mean...</td>\n",
       "      <td>[@USER Let ’ s Aplaud Brett When he deserves i...</td>\n",
       "    </tr>\n",
       "    <tr>\n",
       "      <td>3</td>\n",
       "      <td>twitter_4</td>\n",
       "      <td>@USER @USER cover real hate inside @USER left ...</td>\n",
       "      <td>[Women generally hate this president . What's ...</td>\n",
       "    </tr>\n",
       "    <tr>\n",
       "      <td>4</td>\n",
       "      <td>twitter_5</td>\n",
       "      <td>@USER @USER @USER irony even ask</td>\n",
       "      <td>[Dear media Remoaners , you excitedly sharing ...</td>\n",
       "    </tr>\n",
       "  </tbody>\n",
       "</table>\n",
       "</div>"
      ],
      "text/plain": [
       "          id                                           response  \\\n",
       "0  twitter_1  @USER @USER @USER 3 year old finished reading ...   \n",
       "1  twitter_2  @USER @USER many verifiable lies told 15,000+ ...   \n",
       "2  twitter_3  @USER @USER @USER Maybe Docs scrub coach  mean...   \n",
       "3  twitter_4  @USER @USER cover real hate inside @USER left ...   \n",
       "4  twitter_5                   @USER @USER @USER irony even ask   \n",
       "\n",
       "                                             context  \n",
       "0  [Well now that ’ s problematic AF <URL>, @USER...  \n",
       "1  [Last week the Fake News said that a section o...  \n",
       "2  [@USER Let ’ s Aplaud Brett When he deserves i...  \n",
       "3  [Women generally hate this president . What's ...  \n",
       "4  [Dear media Remoaners , you excitedly sharing ...  "
      ]
     },
     "execution_count": 17,
     "metadata": {},
     "output_type": "execute_result"
    }
   ],
   "source": [
    "df_test['response']=df_test['response'].apply(denoise_text)\n",
    "df_test.head()"
   ]
  },
  {
   "cell_type": "code",
   "execution_count": 18,
   "metadata": {
    "id": "qn5nHUZa4tpi"
   },
   "outputs": [],
   "source": [
    "#Here I create the same conditions for the test tweets\n",
    "tweets_test = df_test.response.values\n",
    "real_test_ids = encoder(tweets_test) \n",
    "real_test_ids = tf.convert_to_tensor(real_test_ids)"
   ]
  },
  {
   "cell_type": "code",
   "execution_count": 19,
   "metadata": {
    "colab": {
     "base_uri": "https://localhost:8080/"
    },
    "id": "bS7_2JcJ4uau",
    "outputId": "43a7cd09-8597-40f6-cefe-9c86605323d7"
   },
   "outputs": [
    {
     "data": {
      "text/plain": [
       "array([[0.19183895],\n",
       "       [0.73162436],\n",
       "       [0.8186202 ],\n",
       "       ...,\n",
       "       [0.44128525],\n",
       "       [0.00127679],\n",
       "       [0.50796545]], dtype=float32)"
      ]
     },
     "execution_count": 19,
     "metadata": {},
     "output_type": "execute_result"
    }
   ],
   "source": [
    "#get the list of predictions from the model (which are basically real numbers in the range [0,1])\n",
    "pred = model.predict(real_test_ids)\n",
    "pred"
   ]
  },
  {
   "cell_type": "code",
   "execution_count": 20,
   "metadata": {
    "id": "PZWcPbyr4xME"
   },
   "outputs": [],
   "source": [
    "#Here I write the file in the local drive\n",
    "#Anything above or equal to 0.5 is considered SARCASM\n",
    "#and anything below is considered NOT_SARCASM\n",
    "#This is the file I end up submitting to LiveDataLab\n",
    "\n",
    "#I create the file in the local directory, and then I submit from there to the competition\n",
    "answers = open(\"./answer.txt\", \"w\")\n",
    "num_test_tweets = len(pred)\n",
    "for i in range(num_test_tweets):\n",
    "    if(pred[i][0]<0.5):\n",
    "        response=\"twitter_\"+str(i+1)+\",NOT_SARCASM\\n\"\n",
    "        answers.write(response)\n",
    "    else:\n",
    "        response=\"twitter_\"+str(i+1)+\",SARCASM\\n\"\n",
    "        answers.write(response)\n",
    "answers.close()"
   ]
  },
  {
   "cell_type": "code",
   "execution_count": null,
   "metadata": {},
   "outputs": [],
   "source": []
  }
 ],
 "metadata": {
  "accelerator": "GPU",
  "colab": {
   "collapsed_sections": [],
   "name": "WinnerClassificationCompetition.ipynb",
   "provenance": []
  },
  "kernelspec": {
   "display_name": "Python 3",
   "language": "python",
   "name": "python3"
  },
  "language_info": {
   "codemirror_mode": {
    "name": "ipython",
    "version": 3
   },
   "file_extension": ".py",
   "mimetype": "text/x-python",
   "name": "python",
   "nbconvert_exporter": "python",
   "pygments_lexer": "ipython3",
   "version": "3.7.4"
  }
 },
 "nbformat": 4,
 "nbformat_minor": 1
}
